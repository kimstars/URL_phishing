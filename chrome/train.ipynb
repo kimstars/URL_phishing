{
 "cells": [
  {
   "cell_type": "code",
   "execution_count": null,
   "metadata": {},
   "outputs": [
    {
     "ename": "",
     "evalue": "",
     "output_type": "error",
     "traceback": [
      "\u001b[1;31mRunning cells with '/usr/bin/python3' requires the ipykernel package.\n",
      "\u001b[1;31mRun the following command to install 'ipykernel' into the Python environment. \n",
      "\u001b[1;31mCommand: '/usr/bin/python3 -m pip install ipykernel -U --user --force-reinstall'"
     ]
    }
   ],
   "source": [
    "!pip install numpy\n",
    "!pip install -U scikit-learn scipy matplotlib\n",
    "!pip install scipy\n",
    "!pip install pandas\n",
    "!pip install joblib\n",
    "!pip install seaborn"
   ]
  },
  {
   "cell_type": "code",
   "execution_count": 1,
   "metadata": {},
   "outputs": [],
   "source": [
    "import numpy as np\n",
    "from sklearn.ensemble import RandomForestClassifier\n",
    "from sklearn.metrics import accuracy_score, classification_report\n",
    "from sklearn import metrics\n",
    "from scipy.io import arff"
   ]
  },
  {
   "cell_type": "code",
   "execution_count": 2,
   "metadata": {},
   "outputs": [],
   "source": [
    "import joblib\n",
    "import pandas as pd\n",
    "import seaborn as sns\n",
    "import matplotlib.pyplot as plt"
   ]
  },
  {
   "cell_type": "code",
   "execution_count": 3,
   "metadata": {},
   "outputs": [],
   "source": [
    "%matplotlib inline"
   ]
  },
  {
   "cell_type": "code",
   "execution_count": 4,
   "metadata": {},
   "outputs": [],
   "source": [
    "from sklearn.preprocessing import OneHotEncoder, LabelEncoder, OrdinalEncoder"
   ]
  },
  {
   "cell_type": "code",
   "execution_count": 5,
   "metadata": {},
   "outputs": [],
   "source": [
    "def getProcessedDataFrame(filepath):\n",
    "  dataset = arff.loadarff(filepath)\n",
    "  #print(type(dataset))\n",
    "  df = pd.DataFrame(dataset[0])\n",
    "  str_df = df.select_dtypes([np.object]) \n",
    "  str_df = str_df.stack().str.decode('utf-8').unstack()\n",
    "\n",
    "  for col in str_df.columns:\n",
    "    str_df[col] = str_df[col].astype(int)\n",
    "  return str_df\n"
   ]
  },
  {
   "cell_type": "code",
   "execution_count": 6,
   "metadata": {},
   "outputs": [
    {
     "name": "stderr",
     "output_type": "stream",
     "text": [
      "/tmp/ipykernel_130800/3434383168.py:5: DeprecationWarning: `np.object` is a deprecated alias for the builtin `object`. To silence this warning, use `object` by itself. Doing this will not modify any behavior and is safe. \n",
      "Deprecated in NumPy 1.20; for more details and guidance: https://numpy.org/devdocs/release/1.20.0-notes.html#deprecations\n",
      "  str_df = df.select_dtypes([np.object])\n"
     ]
    }
   ],
   "source": [
    "complete_training = getProcessedDataFrame('dataset/Training Dataset.arff')"
   ]
  },
  {
   "cell_type": "code",
   "execution_count": 7,
   "metadata": {},
   "outputs": [
    {
     "data": {
      "text/plain": [
       "Result\n",
       " 1    6157\n",
       "-1    4899\n",
       "Name: count, dtype: int64"
      ]
     },
     "execution_count": 7,
     "metadata": {},
     "output_type": "execute_result"
    }
   ],
   "source": [
    "complete_training['Result'].value_counts()"
   ]
  },
  {
   "cell_type": "code",
   "execution_count": 8,
   "metadata": {},
   "outputs": [],
   "source": [
    "reduced_df = complete_training[['having_IP_Address', 'URL_Length', 'Shortining_Service',\n",
    "       'having_At_Symbol', 'double_slash_redirecting', 'Prefix_Suffix',\n",
    "       'having_Sub_Domain', 'SSLfinal_State', 'Domain_registeration_length',\n",
    "       'Favicon', 'HTTPS_token', 'Request_URL', 'URL_of_Anchor',\n",
    "       'Links_in_tags', 'SFH', 'Submitting_to_email', 'Redirect', 'on_mouseover', 'RightClick', 'Iframe',\n",
    "       'age_of_domain', 'DNSRecord', 'web_traffic', 'Page_Rank',\n",
    "       'Statistical_report', 'Result']]\n"
   ]
  },
  {
   "cell_type": "code",
   "execution_count": 9,
   "metadata": {},
   "outputs": [
    {
     "name": "stderr",
     "output_type": "stream",
     "text": [
      "/tmp/ipykernel_130800/2073239758.py:14: SettingWithCopyWarning: \n",
      "A value is trying to be set on a copy of a slice from a DataFrame\n",
      "\n",
      "See the caveats in the documentation: https://pandas.pydata.org/pandas-docs/stable/user_guide/indexing.html#returning-a-view-versus-a-copy\n",
      "  dataframe.loc[i][j] = mapping[dataframe.loc[i][j]]\n"
     ]
    }
   ],
   "source": [
    "def convertEncodingToPositive(dataframe):\n",
    "\n",
    "  mapping = {-1: 2, 0: 0, 1: 1}\n",
    "\n",
    "  col_map = {}\n",
    "\n",
    "  for col in dataframe:\n",
    "    col_map[col] = mapping\n",
    "\n",
    "  for i in range(dataframe.shape[0]):\n",
    "    # if (i%100 == 0):\n",
    "    #   print(i)\n",
    "    for j in range(dataframe.shape[1]):\n",
    "      dataframe.loc[i][j] = mapping[dataframe.loc[i][j]]\n",
    "\n",
    "convertEncodingToPositive(reduced_df)\n",
    "\n",
    "#print(reduced_df)"
   ]
  },
  {
   "cell_type": "code",
   "execution_count": 10,
   "metadata": {},
   "outputs": [
    {
     "name": "stdout",
     "output_type": "stream",
     "text": [
      "(2212, 25)\n"
     ]
    }
   ],
   "source": [
    "from sklearn.model_selection import train_test_split, KFold\n",
    "\n",
    "X_reduced = reduced_df.iloc[:,0:25]\n",
    "y_reduced = reduced_df.iloc[:, -1]\n",
    "\n",
    "X_train_red, X_test_red, y_train_red, y_test_red = train_test_split(X_reduced, y_reduced, test_size=0.2, random_state=7, stratify=y_reduced)\n",
    "print(X_test_red.shape)"
   ]
  },
  {
   "cell_type": "code",
   "execution_count": 11,
   "metadata": {},
   "outputs": [
    {
     "name": "stdout",
     "output_type": "stream",
     "text": [
      "(7075, 25) (7075,) (1769, 25) (1769,)\n",
      "(7075, 25) (7075,) (1769, 25) (1769,)\n",
      "(7075, 25) (7075,) (1769, 25) (1769,)\n",
      "(7075, 25) (7075,) (1769, 25) (1769,)\n",
      "(7076, 25) (7076,) (1768, 25) (1768,)\n"
     ]
    }
   ],
   "source": [
    "kf = KFold(n_splits=5, shuffle=True, random_state=786)\n",
    "X_train_red = X_train_red.to_numpy()\n",
    "X_test_red = X_test_red.to_numpy()\n",
    "y_train_red = y_train_red.to_numpy()\n",
    "y_test_red = y_test_red.to_numpy()\n",
    "for train, test in kf.split(X_train_red):\n",
    "  print(X_train_red[train].shape, y_train_red[train].shape, X_train_red[test].shape, y_train_red[test].shape)"
   ]
  },
  {
   "cell_type": "code",
   "execution_count": 12,
   "metadata": {},
   "outputs": [],
   "source": [
    "from sklearn.metrics import confusion_matrix\n",
    "def plot_cm(y_val, y_pred):\n",
    "  labels = [1, 0]\n",
    "  cm = confusion_matrix(y_val, y_pred, labels)\n",
    "  # print(cm)\n",
    "  fig = plt.figure()\n",
    "  ax = fig.add_subplot(111)\n",
    "  cax = ax.matshow(cm)\n",
    "  plt.title('Confusion matrix of the classifier')\n",
    "  fig.colorbar(cax)\n",
    "  ax.set_xticklabels([''] + labels)\n",
    "  ax.set_yticklabels([''] + labels)\n",
    "  plt.xlabel('Predicted')\n",
    "  plt.ylabel('True')"
   ]
  },
  {
   "cell_type": "code",
   "execution_count": 19,
   "metadata": {},
   "outputs": [
    {
     "name": "stderr",
     "output_type": "stream",
     "text": [
      "/usr/local/lib/python3.10/dist-packages/sklearn/preprocessing/_encoders.py:868: FutureWarning: `sparse` was renamed to `sparse_output` in version 1.2 and will be removed in 1.4. `sparse_output` is ignored unless you leave `sparse` to its default value.\n",
      "  warnings.warn(\n"
     ]
    }
   ],
   "source": [
    "import pickle\n",
    "from sklearn.preprocessing import OneHotEncoder\n",
    "encoder = OneHotEncoder(sparse=False)\n",
    "X_train_red_onehot = encoder.fit_transform(X_train_red)\n",
    "X_test_red_onehot = encoder.transform(X_test_red)\n",
    "pickle.dump(encoder, open(\"One_Hot_Encoder\", 'wb'), protocol=2)"
   ]
  },
  {
   "cell_type": "code",
   "execution_count": 14,
   "metadata": {},
   "outputs": [],
   "source": [
    "from sklearn import svm\n",
    "from sklearn.model_selection import GridSearchCV"
   ]
  },
  {
   "cell_type": "code",
   "execution_count": 18,
   "metadata": {},
   "outputs": [
    {
     "name": "stdout",
     "output_type": "stream",
     "text": [
      "{'C': 100, 'gamma': 0.1, 'kernel': 'rbf'}\n"
     ]
    }
   ],
   "source": [
    "def grid_search_svm(X_train_red_onehot, y_train_red):\n",
    "  svm_clf = svm.SVC()\n",
    "  param_grid = {'C': [0.1, 1, 10, 100],  \n",
    "                'gamma': [1, 0.1, 0.01, 0.001], \n",
    "                'kernel': ['rbf', 'linear']}  \n",
    "\n",
    "  gs_svm = GridSearchCV(svm.SVC(), param_grid, cv = 3)\n",
    "  gs_results = gs_svm.fit(X_train_red_onehot, y_train_red)\n",
    "\n",
    "  return gs_results.best_params_\n",
    "\n",
    "bestparams_svm = grid_search_svm(X_train_red_onehot, y_train_red)\n",
    "print(bestparams_svm)"
   ]
  },
  {
   "cell_type": "code",
   "execution_count": 20,
   "metadata": {},
   "outputs": [
    {
     "ename": "TypeError",
     "evalue": "confusion_matrix() takes 2 positional arguments but 3 were given",
     "output_type": "error",
     "traceback": [
      "\u001b[0;31m---------------------------------------------------------------------------\u001b[0m",
      "\u001b[0;31mTypeError\u001b[0m                                 Traceback (most recent call last)",
      "Cell \u001b[0;32mIn[20], line 19\u001b[0m\n\u001b[1;32m     14\u001b[0m     accuracy_scores_svm\u001b[39m.\u001b[39mappend((accuracy, precision, recall, fpr, f1))\n\u001b[1;32m     17\u001b[0m   \u001b[39mreturn\u001b[39;00m np\u001b[39m.\u001b[39mmean(accuracy_scores_svm, axis\u001b[39m=\u001b[39m\u001b[39m0\u001b[39m)\n\u001b[0;32m---> 19\u001b[0m metric_svm \u001b[39m=\u001b[39m to_use_SVM(X_train_red_onehot, y_train_red)\n\u001b[1;32m     20\u001b[0m \u001b[39mprint\u001b[39m(metric_svm)\n",
      "Cell \u001b[0;32mIn[20], line 7\u001b[0m, in \u001b[0;36mto_use_SVM\u001b[0;34m(X_train_red_onehot, y_train_red)\u001b[0m\n\u001b[1;32m      5\u001b[0m svm_clf \u001b[39m=\u001b[39m svm_clf\u001b[39m.\u001b[39mfit(X_train_red_onehot[train], y_train_red[train])\n\u001b[1;32m      6\u001b[0m tp, fn, fp, tn \u001b[39m=\u001b[39m metrics\u001b[39m.\u001b[39mconfusion_matrix(y_train_red[val], svm_clf\u001b[39m.\u001b[39mpredict(X_train_red_onehot[val]))\u001b[39m.\u001b[39mravel()\n\u001b[0;32m----> 7\u001b[0m plot_cm(y_train_red[val], svm_clf\u001b[39m.\u001b[39;49mpredict(X_train_red_onehot[val]))\n\u001b[1;32m      9\u001b[0m accuracy \u001b[39m=\u001b[39m (tn\u001b[39m+\u001b[39mtp)\u001b[39m/\u001b[39m(fp\u001b[39m+\u001b[39mfn\u001b[39m+\u001b[39mtp\u001b[39m+\u001b[39mtn)\n\u001b[1;32m     10\u001b[0m precision \u001b[39m=\u001b[39m tp\u001b[39m/\u001b[39m(tp\u001b[39m+\u001b[39mfp)\n",
      "Cell \u001b[0;32mIn[12], line 4\u001b[0m, in \u001b[0;36mplot_cm\u001b[0;34m(y_val, y_pred)\u001b[0m\n\u001b[1;32m      2\u001b[0m \u001b[39mdef\u001b[39;00m \u001b[39mplot_cm\u001b[39m(y_val, y_pred):\n\u001b[1;32m      3\u001b[0m   labels \u001b[39m=\u001b[39m [\u001b[39m1\u001b[39m, \u001b[39m0\u001b[39m]\n\u001b[0;32m----> 4\u001b[0m   cm \u001b[39m=\u001b[39m confusion_matrix(y_val, y_pred, labels)\n\u001b[1;32m      5\u001b[0m   \u001b[39m# print(cm)\u001b[39;00m\n\u001b[1;32m      6\u001b[0m   fig \u001b[39m=\u001b[39m plt\u001b[39m.\u001b[39mfigure()\n",
      "\u001b[0;31mTypeError\u001b[0m: confusion_matrix() takes 2 positional arguments but 3 were given"
     ]
    }
   ],
   "source": [
    "def to_use_SVM(X_train_red_onehot, y_train_red):\n",
    "  accuracy_scores_svm = []\n",
    "  for train, val in kf.split(X_train_red_onehot):\n",
    "    svm_clf = svm.SVC(kernel='rbf', gamma = 0.1, C = 10, probability=True)\n",
    "    svm_clf = svm_clf.fit(X_train_red_onehot[train], y_train_red[train])\n",
    "    tp, fn, fp, tn = metrics.confusion_matrix(y_train_red[val], svm_clf.predict(X_train_red_onehot[val])).ravel()\n",
    "    plot_cm(y_train_red[val], svm_clf.predict(X_train_red_onehot[val]))\n",
    "    \n",
    "    accuracy = (tn+tp)/(fp+fn+tp+tn)\n",
    "    precision = tp/(tp+fp)\n",
    "    recall = tp/(tp+fn)\n",
    "    fpr = fp/(fp+tn)\n",
    "    f1 = 2*precision*recall/(precision + recall)\n",
    "    accuracy_scores_svm.append((accuracy, precision, recall, fpr, f1))\n",
    "\n",
    "\n",
    "  return np.mean(accuracy_scores_svm, axis=0)\n",
    "\n",
    "metric_svm = to_use_SVM(X_train_red_onehot, y_train_red)\n",
    "print(metric_svm)"
   ]
  },
  {
   "cell_type": "code",
   "execution_count": 17,
   "metadata": {},
   "outputs": [
    {
     "name": "stdout",
     "output_type": "stream",
     "text": [
      "0.9647377938517179\n"
     ]
    }
   ],
   "source": [
    "def to_test_SVM(X_test_red_onehot, y_test_red, X_train_red_onehot, y_train_red):\n",
    "  svm_clf = svm.SVC(kernel='rbf', gamma = 0.1, C = 10, probability=True)\n",
    "  svm_clf = svm_clf.fit(X_train_red_onehot, y_train_red)\n",
    "  tp, fn, fp, tn = metrics.confusion_matrix(y_test_red, svm_clf.predict(X_test_red_onehot)).ravel()\n",
    "  accuracy = (tn+tp)/(fp+fn+tp+tn)\n",
    "  precision = tp/(tp+fp)\n",
    "  recall = tp/(tp+fn)\n",
    "  fpr = fp/(fp+tn)\n",
    "  f1 = 2*precision*recall/(precision + recall)\n",
    "  pickle.dump(svm_clf, open(\"./classifier/SVM_Final_Model\", 'wb'))\n",
    "  return accuracy\n",
    "\n",
    "test_accuracy = to_test_SVM(X_test_red_onehot, y_test_red, X_train_red_onehot, y_train_red)\n",
    "print(test_accuracy)"
   ]
  },
  {
   "cell_type": "code",
   "execution_count": 18,
   "metadata": {},
   "outputs": [
    {
     "name": "stdout",
     "output_type": "stream",
     "text": [
      "0.9799864314789688\n",
      "0.9809137055837563\n",
      "0.02117887216126563\n"
     ]
    }
   ],
   "source": [
    "filename_dt = './classifier/SVM_Final_Model'\n",
    "loaded_model = pickle.load(open(filename_dt, 'rb'))\n",
    "tp, fn, fp, tn = metrics.confusion_matrix(y_train_red, loaded_model.predict(X_train_red_onehot)).ravel()\n",
    "accuracy = (tn+tp)/(fp+fn+tp+tn)\n",
    "recall = tp/(tp+fn)\n",
    "fpr = fp/(fp+tn)\n",
    "print(accuracy)\n",
    "print(recall)\n",
    "print(fpr)"
   ]
  },
  {
   "cell_type": "code",
   "execution_count": 19,
   "metadata": {},
   "outputs": [
    {
     "name": "stdout",
     "output_type": "stream",
     "text": [
      "0.9647377938517179\n",
      "0.9691558441558441\n",
      "0.04081632653061224\n"
     ]
    }
   ],
   "source": [
    "filename_dt = './classifier/SVM_Final_Model'\n",
    "loaded_model = pickle.load(open(filename_dt, 'rb'))\n",
    "tp, fn, fp, tn = metrics.confusion_matrix(y_test_red, loaded_model.predict(X_test_red_onehot)).ravel()\n",
    "accuracy = (tn+tp)/(fp+fn+tp+tn)\n",
    "recall = tp/(tp+fn)\n",
    "fpr = fp/(fp+tn)\n",
    "print(accuracy)\n",
    "print(recall)\n",
    "print(fpr)"
   ]
  },
  {
   "cell_type": "code",
   "execution_count": 20,
   "metadata": {},
   "outputs": [
    {
     "name": "stdout",
     "output_type": "stream",
     "text": [
      "[t-SNE] Computing 151 nearest neighbors...\n",
      "[t-SNE] Indexed 8844 samples in 0.013s...\n",
      "[t-SNE] Computed neighbors for 8844 samples in 0.328s...\n",
      "[t-SNE] Computed conditional probabilities for sample 1000 / 8844\n",
      "[t-SNE] Computed conditional probabilities for sample 2000 / 8844\n",
      "[t-SNE] Computed conditional probabilities for sample 3000 / 8844\n",
      "[t-SNE] Computed conditional probabilities for sample 4000 / 8844\n",
      "[t-SNE] Computed conditional probabilities for sample 5000 / 8844\n",
      "[t-SNE] Computed conditional probabilities for sample 6000 / 8844\n",
      "[t-SNE] Computed conditional probabilities for sample 7000 / 8844\n",
      "[t-SNE] Computed conditional probabilities for sample 8000 / 8844\n",
      "[t-SNE] Computed conditional probabilities for sample 8844 / 8844\n",
      "[t-SNE] Mean sigma: 0.000000\n",
      "[t-SNE] KL divergence after 250 iterations with early exaggeration: 55.486942\n",
      "[t-SNE] KL divergence after 1000 iterations: 0.230770\n"
     ]
    },
    {
     "data": {
      "image/png": "[encoded data removed]",
      "text/plain": [
       "<Figure size 432x288 with 1 Axes>"
      ]
     },
     "metadata": {},
     "output_type": "display_data"
    }
   ],
   "source": [
    "from sklearn.manifold import TSNE\n",
    "\n",
    "def tsne_analysis():\n",
    "  \"\"\" For TSNE analysis on the training dataset with \n",
    "  last hidden layer output\"\"\"\n",
    "\n",
    "  filename_dt = './classifier/SVM_Final_Model'\n",
    "  loaded_model = pickle.load(open(filename_dt, 'rb'))\n",
    "  \n",
    "  hidden_opt = loaded_model.predict_proba(X_train_red_onehot)\n",
    "  df = pd.DataFrame(hidden_opt)\n",
    "  df['y'] = y_train_red\n",
    "  df['label'] = df['y'].apply(lambda i: str(i))\n",
    "  tsne = TSNE(n_components = 2, perplexity = 50, verbose = 1, n_iter = 1000)\n",
    "  tsne_res = tsne.fit_transform(hidden_opt)\n",
    "\n",
    "  df['TSNE 1st component'] = tsne_res[:,0]\n",
    "  df['TSNE 2nd component'] = tsne_res[:,1]\n",
    "\n",
    "  sns.scatterplot(\n",
    "    x = \"TSNE 1st component\", y = \"TSNE 2nd component\",\n",
    "    hue = 'y',\n",
    "    palette = sns.color_palette(\"hls\", 2),\n",
    "    data = df,\n",
    "    legend = \"full\",\n",
    "    alpha = 0.3\n",
    "  )\n",
    "  plt.show()\n",
    "\n",
    "tsne_analysis()"
   ]
  },
  {
   "cell_type": "code",
   "execution_count": null,
   "metadata": {},
   "outputs": [],
   "source": []
  }
 ],
 "metadata": {
  "kernelspec": {
   "display_name": "Python 3",
   "language": "python",
   "name": "python3"
  },
  "language_info": {
   "codemirror_mode": {
    "name": "ipython",
    "version": 3
   },
   "file_extension": ".py",
   "mimetype": "text/x-python",
   "name": "python",
   "nbconvert_exporter": "python",
   "pygments_lexer": "ipython3",
   "version": "3.10.11"
  }
 },
 "nbformat": 4,
 "nbformat_minor": 2
}
